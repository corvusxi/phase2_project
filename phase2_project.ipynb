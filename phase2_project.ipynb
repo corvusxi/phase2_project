{
 "cells": [
  {
   "cell_type": "markdown",
   "metadata": {},
   "source": [
    "# Phase 2 Project\n",
    "\n",
    "A company decided to create a new movie studio and needs help deciding what type of movies to make. I am also going to make the assumption that this company is based in North America and its target market is an English-speaking audience.\n",
    "\n",
    "Initial datasets are from:\n",
    "- [Box Office Mojo](https://www.boxofficemojo.com/)\n",
    "- [IMDB](https://www.imdb.com/)\n",
    "- [Rotten Tomatoes](https://www.rottentomatoes.com/)\n",
    "- [TheMovieDB](https://www.themoviedb.org/)\n",
    "- [The Numbers](https://www.the-numbers.com/)\n",
    "\n",
    "Additional data was scrapped from:\n",
    "- [Box Office Mojo](https://www.boxofficemojo.com/), to obtain data from the past 2 years."
   ]
  },
  {
   "cell_type": "markdown",
   "metadata": {},
   "source": [
    "# Importing Libraries"
   ]
  },
  {
   "cell_type": "code",
   "execution_count": null,
   "metadata": {},
   "outputs": [],
   "source": [
    "import sqlite3\n",
    "import pandas as pd\n",
    "import seaborn as sns\n",
    "import matplotlib.pyplot as plt"
   ]
  },
  {
   "cell_type": "markdown",
   "metadata": {},
   "source": [
    "# Which genres are highly rated?\n",
    "I started with the Rotten Tomatoes datasets to explore genres and use Fresh (60% and higher) vs. Rotten as my metric."
   ]
  },
  {
   "cell_type": "code",
   "execution_count": null,
   "metadata": {},
   "outputs": [],
   "source": [
    "rt = pd.read_csv(\"data/rt.csv\")\n",
    "rt"
   ]
  },
  {
   "cell_type": "code",
   "execution_count": null,
   "metadata": {},
   "outputs": [],
   "source": [
    "#Explode genre column\n",
    "rt[\"genre\"] = rt[\"genre\"].str.split(\"|\")\n",
    "rt = rt.explode(\"genre\")\n",
    "rt[\"genre\"].value_counts()"
   ]
  },
  {
   "cell_type": "markdown",
   "metadata": {},
   "source": [
    "After looking at the value counts, I wanted to filter what genres would potentially skew the data and would have to be removed.\n",
    "- Classics are much older films and I would not consider them relevant to this analysis.\n",
    "- Is Television the same as streaming in this data set?\n",
    "- What is Special Interest, and is it too narrow?\n",
    "- The genres Cult Movies, Gay and Lesbian, Anime and Manga had under 100 and I consider them to not have enough information when looking at genres."
   ]
  },
  {
   "cell_type": "code",
   "execution_count": null,
   "metadata": {},
   "outputs": [],
   "source": [
    "#What is the Television genre\n",
    "rt[\"theater_date\"] = pd.to_datetime(rt[\"theater_date\"])\n",
    "rt.sort_values(\"theater_date\", ascending=False).head(15)\n",
    "rt_tv = rt[rt[\"genre\"] == \"Television\"]\n",
    "rt_tv.sort_values(\"theater_date\", ascending=False)"
   ]
  },
  {
   "cell_type": "code",
   "execution_count": null,
   "metadata": {},
   "outputs": [],
   "source": [
    "#What is the Special Interest genre\n",
    "rt_si = rt[rt[\"genre\"] == \"Special Interest\"]\n",
    "rt_si.sample(15)"
   ]
  },
  {
   "cell_type": "code",
   "execution_count": null,
   "metadata": {},
   "outputs": [],
   "source": [
    "rt = rt.drop(rt[rt.genre.isin([\"Cult Movies\", \"Gay and Lesbian\", \"Anime and Manga\", \"Classics\", \"Television\", \"Special Interest\"])].index)"
   ]
  },
  {
   "cell_type": "markdown",
   "metadata": {},
   "source": [
    "Looking at Fresh vs. Rotten ratio."
   ]
  },
  {
   "cell_type": "code",
   "execution_count": null,
   "metadata": {},
   "outputs": [],
   "source": [
    "rt_freshvsrotten = rt.groupby([\"genre\", \"fresh\"]).count()[\"id\"]\n",
    "rt_freshvsrotten = rt_freshvsrotten.reset_index().pivot(columns=\"fresh\", index=\"genre\", values=\"id\")\n",
    "rt_freshvsrotten"
   ]
  },
  {
   "cell_type": "code",
   "execution_count": null,
   "metadata": {},
   "outputs": [],
   "source": [
    "rt_freshvsrotten[\"fresh / rotten\"] = rt_freshvsrotten[\"fresh\"] / rt_freshvsrotten[\"rotten\"]\n",
    "rt_freshvsrotten = rt_freshvsrotten.sort_values(\"fresh / rotten\", ascending = False)"
   ]
  },
  {
   "cell_type": "code",
   "execution_count": null,
   "metadata": {},
   "outputs": [],
   "source": [
    "sns.set(style=\"darkgrid\")\n",
    "ax = sns.barplot(data=rt_freshvsrotten, x=\"fresh / rotten\", y=rt_freshvsrotten.index, orient=\"h\")\n",
    "ax.set_title(\"Highest Rated Genres on Rotten Tomatoes\")\n",
    "ax.set(xlabel=\"Fresh vs. Rotten Ratio\", ylabel=\"Genres\");"
   ]
  },
  {
   "cell_type": "markdown",
   "metadata": {},
   "source": [
    "From this, the top 5 genres that are highly rated are: Documentary, Art House and International, Sports and Fitness, Animation, and Drama. Noting that Romance is in sixth place, if International being attached to Art House is a concern later in this analysis."
   ]
  },
  {
   "cell_type": "markdown",
   "metadata": {},
   "source": [
    "# Which of these genres make the most profit on average?\n",
    "\n",
    "For this, the first step was to sort the data from IMDB. To follow focusing on the highly rated, I filtered this dataset to return the average rating was above 6.0 similar to Rotten Tomatoes' 60% and higher Fresh rating and number of votes had to be above 100 to remove outliers. I also focused on world revenue rather than domestic revenue due to English-speaking being a predominant international language."
   ]
  },
  {
   "cell_type": "code",
   "execution_count": null,
   "metadata": {},
   "outputs": [],
   "source": [
    "conn = sqlite3.connect(\"data/im.db\")"
   ]
  },
  {
   "cell_type": "code",
   "execution_count": null,
   "metadata": {},
   "outputs": [],
   "source": [
    "imdb = pd.read_sql(\"\"\"\n",
    "SELECT persons.primary_name as 'Name', persons.primary_profession as 'Profession', movie_basics.primary_title as 'Title', movie_basics.genres as 'Genres', movie_ratings.averagerating as 'Average Rating', movie_ratings.numvotes as 'NumVotes'\n",
    "FROM persons\n",
    "INNER JOIN directors\n",
    "ON persons.person_id = directors.person_id\n",
    "INNER JOIN writers\n",
    "ON directors.person_id = writers.person_id\n",
    "INNER JOIN movie_basics\n",
    "ON directors.movie_id = movie_basics.movie_id\n",
    "INNER JOIN movie_ratings\n",
    "ON movie_basics.movie_id = movie_ratings.movie_id\n",
    "WHERE averagerating > 6.0 and numvotes > 100\n",
    "\"\"\", conn)\n",
    "imdb"
   ]
  },
  {
   "cell_type": "code",
   "execution_count": null,
   "metadata": {},
   "outputs": [],
   "source": [
    "imdb[\"Genres\"] = imdb[\"Genres\"].str.split(\",\")\n",
    "imdb = imdb.explode(\"Genres\")\n",
    "imdb[\"Genres\"].value_counts()"
   ]
  },
  {
   "cell_type": "code",
   "execution_count": null,
   "metadata": {},
   "outputs": [],
   "source": [
    "imdb.dropna(subset=[\"Genres\"], inplace=True)"
   ]
  },
  {
   "cell_type": "markdown",
   "metadata": {},
   "source": [
    "Due to how IMDB categorizes its movies, there was neither a \"Art House\" nor \"International\" genre to reference, so I did have to alter my \"top 5\" to include now Romance."
   ]
  },
  {
   "cell_type": "code",
   "execution_count": null,
   "metadata": {},
   "outputs": [],
   "source": [
    "imdb = imdb[imdb[\"Genres\"].str.contains(\"Documentary|Sport|Animation|Drama|Romance\")]\n",
    "imdb"
   ]
  },
  {
   "cell_type": "markdown",
   "metadata": {},
   "source": [
    "Merginging this data with The Numbers CSV for product budgets and worldwide gross."
   ]
  },
  {
   "cell_type": "code",
   "execution_count": null,
   "metadata": {},
   "outputs": [],
   "source": [
    "tn_df = pd.read_csv(\"data/tn.movie_budgets.csv\")\n",
    "tn_df"
   ]
  },
  {
   "cell_type": "code",
   "execution_count": null,
   "metadata": {},
   "outputs": [],
   "source": [
    "merge = imdb.merge(tn_df, left_on='Title', right_on='movie',how='inner')\n",
    "[['Name','Title','Genres', 'Production Budget', 'Domestic Gross', 'Foreign Gross', 'Average Rating', 'NumVotes']]"
   ]
  },
  {
   "cell_type": "code",
   "execution_count": null,
   "metadata": {},
   "outputs": [],
   "source": [
    "merge[\"production_budget\"] = merge[\"production_budget\"].replace('[\\$,]', '', regex=True).astype(int)\n",
    "merge[\"domestic_gross\"] = merge[\"domestic_gross\"].replace(\"[\\$,]\", \"\", regex=True).astype(int)\n",
    "merge[\"worldwide_gross\"] = merge[\"worldwide_gross\"].replace(\"[\\$,]\", \"\", regex=True).astype(int)\n",
    "merge[\"avg_world\"] = merge[\"worldwide_gross\"] / merge[\"production_budget\"]\n",
    "merge"
   ]
  },
  {
   "cell_type": "code",
   "execution_count": null,
   "metadata": {},
   "outputs": [],
   "source": [
    "genre_wprofit = merge.groupby(\"Genres\")[\"avg_world\"].mean().sort_values(ascending=False)\n",
    "genre_wprofit = genre_wprofit.reset_index()\n",
    "genre_wprofit"
   ]
  },
  {
   "cell_type": "code",
   "execution_count": null,
   "metadata": {},
   "outputs": [],
   "source": [
    "fig, ax = plt.subplots(figsize = (10,5))\n",
    "plt.bar(data=genre_wprofit, x=genre_wprofit[\"Genres\"], height=genre_wprofit[\"avg_world\"])\n",
    "plt.xticks(range(len(genre_wprofit[\"Genres\"])), genre_wprofit[\"Genres\"])\n",
    "plt.xlabel(\"Top Genres Selected\")\n",
    "plt.ylabel(\"Average Profit Ratio\")\n",
    "plt.title(\"Average of Worldwide Gross / Production Budget\");"
   ]
  },
  {
   "cell_type": "markdown",
   "metadata": {},
   "source": [
    "From the new top 5 genres, Animation has the highest average profit."
   ]
  },
  {
   "cell_type": "markdown",
   "metadata": {},
   "source": [
    "# Which director and writer are highly rated for Animation?\n",
    "\n",
    "Going back to the starting IMDB data and now filtering the genre to Animation only."
   ]
  },
  {
   "cell_type": "code",
   "execution_count": null,
   "metadata": {},
   "outputs": [],
   "source": [
    "#Exploring Animation\n",
    "animation = imdb[imdb[\"Genres\"] == \"Animation\"]\n",
    "animation"
   ]
  },
  {
   "cell_type": "code",
   "execution_count": null,
   "metadata": {},
   "outputs": [],
   "source": [
    "animation[\"Profession\"] = animation[\"Profession\"].str.split(\",\")\n",
    "animation = animation.explode(\"Profession\")"
   ]
  },
  {
   "cell_type": "code",
   "execution_count": null,
   "metadata": {},
   "outputs": [],
   "source": [
    "directors = animation[animation[\"Profession\"] == \"director\"]\n",
    "directors = directors.drop_duplicates(subset=[\"Title\"])\n",
    "directors"
   ]
  },
  {
   "cell_type": "markdown",
   "metadata": {},
   "source": [
    "Now that this data is filtered by directors, which directors on average have the highest ratings?"
   ]
  },
  {
   "cell_type": "code",
   "execution_count": null,
   "metadata": {},
   "outputs": [],
   "source": [
    "avg_drating = directors.groupby(\"Name\")[\"Average Rating\"].mean().sort_values(ascending=False)\n",
    "avg_drating.head(15)"
   ]
  },
  {
   "cell_type": "markdown",
   "metadata": {},
   "source": [
    "Looking into these director's IMDB pages, Mert Gökalp and Harry Baweja are international directors and although their films are English subtitled, that would be additional step for this company to take when starting up. Therefore, the next best pick is Rodney Rothman, who worked on the Marvel Spiderverse films. Third is Pete Docter, who director on a few Pixar films."
   ]
  },
  {
   "cell_type": "markdown",
   "metadata": {},
   "source": [
    "Similar to directors, who are the highest rated writers in Animation?"
   ]
  },
  {
   "cell_type": "code",
   "execution_count": null,
   "metadata": {},
   "outputs": [],
   "source": [
    "writers = animation[animation[\"Profession\"] == \"writer\"]\n",
    "writers = writers.drop_duplicates(subset=[\"Title\"])\n",
    "avg_wrating = writers.groupby(\"Name\")[\"Average Rating\"].mean().sort_values(ascending=False)\n",
    "avg_wrating.head(15)"
   ]
  },
  {
   "cell_type": "markdown",
   "metadata": {},
   "source": [
    "A similar situation to directors regarding Mert Gökalp. Rodney Rothman is second again here. Adrian Molina is also a good pick as he was the co-director for Disney's Coco."
   ]
  },
  {
   "cell_type": "markdown",
   "metadata": {},
   "source": [
    "# What is the best month to make a profit?\n",
    "\n",
    "With the available data, I also wanted to look for which month on average made the most profit as insight on when to release this animated movie."
   ]
  },
  {
   "cell_type": "code",
   "execution_count": null,
   "metadata": {},
   "outputs": [],
   "source": [
    "merge[\"release_date\"]= pd.to_datetime(merge[\"release_date\"])"
   ]
  },
  {
   "cell_type": "code",
   "execution_count": null,
   "metadata": {},
   "outputs": [],
   "source": [
    "animation_month = merge[merge[\"Genres\"] == \"Animation\"]\n",
    "animation_month = animation_month.drop_duplicates(subset=[\"id\"])\n",
    "animation_month[\"month\"] = animation_month[\"release_date\"].dt.month\n",
    "chart = animation_month.groupby(\"month\")[\"worldwide_gross\"].mean()\n",
    "chart = chart.reset_index()\n",
    "chart"
   ]
  },
  {
   "cell_type": "code",
   "execution_count": null,
   "metadata": {},
   "outputs": [],
   "source": [
    "fig, ax = plt.subplots()\n",
    "sns.set(style=\"darkgrid\")\n",
    "linechart = sns.lineplot(data=chart, x=\"month\", y=\"worldwide_gross\")\n",
    "ax.set_xticks([1,2,3,4,5,6,7,8,9,10,11,12],[\"Jan\", \"Feb\", \"Mar\", \"Apr\", \"May\", \"Jun\", \"Jul\", \"Aug\", \"Sep\", \"Oct\", \"Nov\", \"Dec\"], rotation=25)\n",
    "ax.set(xlabel=\"Month\", ylabel=\"In Trillions, AVG World Gross\")\n",
    "ax.set_title(\"Average Worldwide Gross per Month\");"
   ]
  },
  {
   "cell_type": "markdown",
   "metadata": {},
   "source": [
    "From this data, it appears that March, followed by November, are the best months to release an animated movie. It should be noted there is no data for January, which could imply that a November release is meant to carry throughout the winter holidays."
   ]
  },
  {
   "cell_type": "markdown",
   "metadata": {},
   "source": [
    "# What is the current trend of animation?\n",
    "\n",
    "Since most of the initial data was from before 2020, I thought it would be important to see how the movie industry is doing after COVID-19. This scrapped data focuses on revenue only."
   ]
  },
  {
   "cell_type": "code",
   "execution_count": null,
   "metadata": {},
   "outputs": [],
   "source": [
    "bom = pd.read_csv(\"data/bom_scrapy.csv\", low_memory=False)\n",
    "bom"
   ]
  },
  {
   "cell_type": "code",
   "execution_count": null,
   "metadata": {},
   "outputs": [],
   "source": [
    "bom.drop_duplicates()"
   ]
  },
  {
   "cell_type": "code",
   "execution_count": null,
   "metadata": {},
   "outputs": [],
   "source": [
    "#Drop films that are too new, they will skew the data\n",
    "bom = bom.drop(bom[bom[\"release_days\"] <= 60].index)"
   ]
  },
  {
   "cell_type": "code",
   "execution_count": null,
   "metadata": {},
   "outputs": [],
   "source": [
    "#Explode genre column\n",
    "bom[\"genres\"] = bom[\"genres\"].str.split(\",\")\n",
    "bom = bom.explode(\"genres\")"
   ]
  },
  {
   "cell_type": "code",
   "execution_count": null,
   "metadata": {},
   "outputs": [],
   "source": [
    "bom[\"genres\"].value_counts()"
   ]
  },
  {
   "cell_type": "code",
   "execution_count": null,
   "metadata": {},
   "outputs": [],
   "source": [
    "bom = bom[bom[\"genres\"].str.contains(\"Documentary|Sport|Animation|Drama|Romance\")]"
   ]
  },
  {
   "cell_type": "code",
   "execution_count": null,
   "metadata": {},
   "outputs": [],
   "source": [
    "#Data cleaning\n",
    "bom[\"domestic_revenue\"].fillna(1, inplace=True)\n",
    "bom[\"world_revenue\"].fillna(1, inplace=True)\n",
    "bom[\"opening_revenue\"].fillna(1, inplace=True)\n",
    "bom[\"domestic_revenue\"] = bom[\"domestic_revenue\"].replace(\"[\\$,]\", \"\", regex=True).astype(int)\n",
    "bom[\"world_revenue\"] = bom[\"world_revenue\"].replace(\"[\\$,]\", \"\", regex=True).astype(int)\n",
    "bom[\"opening_revenue\"] = bom[\"opening_revenue\"].replace('[\\$,]', '', regex=True).astype(int)"
   ]
  },
  {
   "cell_type": "code",
   "execution_count": null,
   "metadata": {},
   "outputs": [],
   "source": [
    "genre_wprofit = bom.groupby(\"genres\")[\"world_revenue\"].mean().sort_values(ascending=False)\n",
    "genre_wprofit = genre_wprofit.reset_index()\n",
    "genre_wprofit"
   ]
  },
  {
   "cell_type": "code",
   "execution_count": null,
   "metadata": {},
   "outputs": [],
   "source": [
    "fig, ax = plt.subplots(figsize = (10,5))\n",
    "plt.bar(data=genre_wprofit, x=genre_wprofit[\"genres\"], height=genre_wprofit[\"world_revenue\"])\n",
    "plt.xticks(range(len(genre_wprofit[\"genres\"])), genre_wprofit[\"genres\"])\n",
    "plt.xlabel(\"Top Genres Selected\")\n",
    "plt.ylabel(\"In Trillions, AVG Profit\")\n",
    "plt.title(\"Current: Average of Worldwide Gross\");"
   ]
  },
  {
   "cell_type": "markdown",
   "metadata": {},
   "source": [
    "According to the scrapped data from Box Office Mojo, animation as a genre compared to the top 5 previously considered is doing well."
   ]
  },
  {
   "cell_type": "code",
   "execution_count": null,
   "metadata": {},
   "outputs": [],
   "source": [
    "conn.close()"
   ]
  },
  {
   "cell_type": "markdown",
   "metadata": {},
   "source": [
    "# Conclusion\n",
    "\n",
    "According to the available data, amongst the highly rated genres, Animation generates the most world revenue on average. For creatives, Rodney Rothman and Pete Docter good picks for directors. For writers, Rodney Rothman is again a good pick, as well as Adrian Molina. The best month for profit in releasing an animated movie is November, followed by March. In regards to more current data, animation is still doing the best profit wise compared the highly rated genres from earlier."
   ]
  }
 ],
 "metadata": {
  "kernelspec": {
   "display_name": "Python 3 (ipykernel)",
   "language": "python",
   "name": "python3"
  },
  "language_info": {
   "codemirror_mode": {
    "name": "ipython",
    "version": 3
   },
   "file_extension": ".py",
   "mimetype": "text/x-python",
   "name": "python",
   "nbconvert_exporter": "python",
   "pygments_lexer": "ipython3",
   "version": "3.11.5"
  }
 },
 "nbformat": 4,
 "nbformat_minor": 2
}
